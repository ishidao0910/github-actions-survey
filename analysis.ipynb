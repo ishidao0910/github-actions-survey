{
 "cells": [
  {
   "cell_type": "code",
   "execution_count": 1,
   "metadata": {},
   "outputs": [],
   "source": [
    "import pandas\n",
    "import matplotlib.pyplot as plt\n",
    "from datetime import datetime as dt"
   ]
  },
  {
   "cell_type": "code",
   "execution_count": 2,
   "metadata": {},
   "outputs": [],
   "source": [
    "# txtファイルの読み込み\n",
    "overhead_time_list = []\n",
    "with open('data/test.txt') as f:\n",
    "    for line in f:\n",
    "        overhead_time_list.append(dt.strptime(line[:-8], '%Y-%m-%d %H:%M:%S'))"
   ]
  },
  {
   "cell_type": "code",
   "execution_count": 3,
   "metadata": {},
   "outputs": [],
   "source": [
    "temp_df = pandas.DataFrame(overhead_time_list, columns=[\"overhead\"])\n",
    "\n",
    "# 利用する時刻の抽出\n",
    "dt_list = pandas.date_range(start='2022-06-01', periods=24, freq='H')\n",
    "dt_list = dt_list[15:]\n"
   ]
  },
  {
   "cell_type": "code",
   "execution_count": 4,
   "metadata": {},
   "outputs": [
    {
     "data": {
      "text/plain": [
       "DatetimeIndex(['2022-06-01 15:00:00', '2022-06-01 16:00:00',\n",
       "               '2022-06-01 17:00:00', '2022-06-01 18:00:00',\n",
       "               '2022-06-01 19:00:00', '2022-06-01 20:00:00',\n",
       "               '2022-06-01 21:00:00', '2022-06-01 22:00:00',\n",
       "               '2022-06-01 23:00:00'],\n",
       "              dtype='datetime64[ns]', freq='H')"
      ]
     },
     "execution_count": 4,
     "metadata": {},
     "output_type": "execute_result"
    }
   ],
   "source": [
    "dt_list"
   ]
  },
  {
   "cell_type": "code",
   "execution_count": 5,
   "metadata": {},
   "outputs": [],
   "source": [
    "temp_df['scheduled_time'] = dt_list\n",
    "temp_df['delay'] = temp_df['overhead'] - temp_df['scheduled_time']\n",
    "temp_df['delay_time'] = temp_df['delay'].dt.total_seconds()/60"
   ]
  },
  {
   "cell_type": "code",
   "execution_count": 6,
   "metadata": {},
   "outputs": [
    {
     "data": {
      "text/html": [
       "<div>\n",
       "<style scoped>\n",
       "    .dataframe tbody tr th:only-of-type {\n",
       "        vertical-align: middle;\n",
       "    }\n",
       "\n",
       "    .dataframe tbody tr th {\n",
       "        vertical-align: top;\n",
       "    }\n",
       "\n",
       "    .dataframe thead th {\n",
       "        text-align: right;\n",
       "    }\n",
       "</style>\n",
       "<table border=\"1\" class=\"dataframe\">\n",
       "  <thead>\n",
       "    <tr style=\"text-align: right;\">\n",
       "      <th></th>\n",
       "      <th>overhead</th>\n",
       "      <th>scheduled_time</th>\n",
       "      <th>delay</th>\n",
       "      <th>delay_time</th>\n",
       "    </tr>\n",
       "  </thead>\n",
       "  <tbody>\n",
       "    <tr>\n",
       "      <th>0</th>\n",
       "      <td>2022-06-01 15:16:42</td>\n",
       "      <td>2022-06-01 15:00:00</td>\n",
       "      <td>0 days 00:16:42</td>\n",
       "      <td>16.700000</td>\n",
       "    </tr>\n",
       "    <tr>\n",
       "      <th>1</th>\n",
       "      <td>2022-06-01 16:08:12</td>\n",
       "      <td>2022-06-01 16:00:00</td>\n",
       "      <td>0 days 00:08:12</td>\n",
       "      <td>8.200000</td>\n",
       "    </tr>\n",
       "    <tr>\n",
       "      <th>2</th>\n",
       "      <td>2022-06-01 17:24:45</td>\n",
       "      <td>2022-06-01 17:00:00</td>\n",
       "      <td>0 days 00:24:45</td>\n",
       "      <td>24.750000</td>\n",
       "    </tr>\n",
       "    <tr>\n",
       "      <th>3</th>\n",
       "      <td>2022-06-01 18:22:13</td>\n",
       "      <td>2022-06-01 18:00:00</td>\n",
       "      <td>0 days 00:22:13</td>\n",
       "      <td>22.216667</td>\n",
       "    </tr>\n",
       "    <tr>\n",
       "      <th>4</th>\n",
       "      <td>2022-06-01 19:06:05</td>\n",
       "      <td>2022-06-01 19:00:00</td>\n",
       "      <td>0 days 00:06:05</td>\n",
       "      <td>6.083333</td>\n",
       "    </tr>\n",
       "    <tr>\n",
       "      <th>5</th>\n",
       "      <td>2022-06-01 20:14:59</td>\n",
       "      <td>2022-06-01 20:00:00</td>\n",
       "      <td>0 days 00:14:59</td>\n",
       "      <td>14.983333</td>\n",
       "    </tr>\n",
       "    <tr>\n",
       "      <th>6</th>\n",
       "      <td>2022-06-01 21:16:43</td>\n",
       "      <td>2022-06-01 21:00:00</td>\n",
       "      <td>0 days 00:16:43</td>\n",
       "      <td>16.716667</td>\n",
       "    </tr>\n",
       "    <tr>\n",
       "      <th>7</th>\n",
       "      <td>2022-06-01 22:18:38</td>\n",
       "      <td>2022-06-01 22:00:00</td>\n",
       "      <td>0 days 00:18:38</td>\n",
       "      <td>18.633333</td>\n",
       "    </tr>\n",
       "    <tr>\n",
       "      <th>8</th>\n",
       "      <td>2022-06-01 23:01:12</td>\n",
       "      <td>2022-06-01 23:00:00</td>\n",
       "      <td>0 days 00:01:12</td>\n",
       "      <td>1.200000</td>\n",
       "    </tr>\n",
       "  </tbody>\n",
       "</table>\n",
       "</div>"
      ],
      "text/plain": [
       "             overhead      scheduled_time           delay  delay_time\n",
       "0 2022-06-01 15:16:42 2022-06-01 15:00:00 0 days 00:16:42   16.700000\n",
       "1 2022-06-01 16:08:12 2022-06-01 16:00:00 0 days 00:08:12    8.200000\n",
       "2 2022-06-01 17:24:45 2022-06-01 17:00:00 0 days 00:24:45   24.750000\n",
       "3 2022-06-01 18:22:13 2022-06-01 18:00:00 0 days 00:22:13   22.216667\n",
       "4 2022-06-01 19:06:05 2022-06-01 19:00:00 0 days 00:06:05    6.083333\n",
       "5 2022-06-01 20:14:59 2022-06-01 20:00:00 0 days 00:14:59   14.983333\n",
       "6 2022-06-01 21:16:43 2022-06-01 21:00:00 0 days 00:16:43   16.716667\n",
       "7 2022-06-01 22:18:38 2022-06-01 22:00:00 0 days 00:18:38   18.633333\n",
       "8 2022-06-01 23:01:12 2022-06-01 23:00:00 0 days 00:01:12    1.200000"
      ]
     },
     "execution_count": 6,
     "metadata": {},
     "output_type": "execute_result"
    }
   ],
   "source": [
    "temp_df"
   ]
  },
  {
   "cell_type": "code",
   "execution_count": 7,
   "metadata": {},
   "outputs": [
    {
     "name": "stderr",
     "output_type": "stream",
     "text": [
      "No artists with labels found to put in legend.  Note that artists whose label start with an underscore are ignored when legend() is called with no argument.\n"
     ]
    },
    {
     "data": {
      "image/png": "[encoded data removed]",
      "text/plain": [
       "<Figure size 720x432 with 1 Axes>"
      ]
     },
     "metadata": {
      "needs_background": "light"
     },
     "output_type": "display_data"
    }
   ],
   "source": [
    "x1 = temp_df['scheduled_time'].dt.hour.astype(str) + \":00\"\n",
    "y1 = temp_df['delay_time']\n",
    "fig = plt.figure(figsize=(10, 6))\n",
    "ax = fig.add_subplot(1,1,1)\n",
    "ax.plot(x1, y1, color='tomato',  linestyle='-', marker='o')\n",
    "ax.set_xticks(temp_df['scheduled_time'].dt.hour.astype(str) + \":00\")\n",
    "plt.legend(bbox_to_anchor=(1, 1),loc='upper right')\n",
    "plt.show()\n",
    "\n"
   ]
  },
  {
   "cell_type": "markdown",
   "metadata": {},
   "source": [
    "# 考察"
   ]
  },
  {
   "cell_type": "markdown",
   "metadata": {},
   "source": [
    "UTCの15:00-23:00では、平均delayが15分くらいであることがわかった。"
   ]
  },
  {
   "cell_type": "markdown",
   "metadata": {},
   "source": []
  }
 ],
 "metadata": {
  "interpreter": {
   "hash": "5e36b0a889289ed7513025b236c2e2948a59999ad39fd2d950c06b5c8c735738"
  },
  "kernelspec": {
   "display_name": "Python 3.9.10 ('myenv')",
   "language": "python",
   "name": "python3"
  },
  "language_info": {
   "codemirror_mode": {
    "name": "ipython",
    "version": 3
   },
   "file_extension": ".py",
   "mimetype": "text/x-python",
   "name": "python",
   "nbconvert_exporter": "python",
   "pygments_lexer": "ipython3",
   "version": "3.9.10"
  },
  "orig_nbformat": 4
 },
 "nbformat": 4,
 "nbformat_minor": 2
}

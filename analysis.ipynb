{
 "cells": [
  {
   "cell_type": "code",
   "execution_count": 1,
   "metadata": {},
   "outputs": [],
   "source": [
    "import pandas\n",
    "import matplotlib.pyplot as plt\n",
    "from datetime import datetime as dt"
   ]
  },
  {
   "cell_type": "code",
   "execution_count": 15,
   "metadata": {},
   "outputs": [],
   "source": [
    "# txtファイルの読み込み\n",
    "overhead_time_list = []\n",
    "with open('data/range.txt') as f:\n",
    "    for line in f:\n",
    "        overhead_time_list.append(dt.strptime(line[:-8], '%Y-%m-%d %H:%M:%S'))"
   ]
  },
  {
   "cell_type": "code",
   "execution_count": 29,
   "metadata": {},
   "outputs": [],
   "source": [
    "temp_df = pandas.DataFrame(overhead_time_list, columns=[\"overhead\"])\n",
    "\n",
    "# 利用する時刻の抽出\n",
    "dt_list = pandas.date_range(start='2022-06-02', periods=24, freq='H')\n",
    "dt_list = dt_list[1:len(temp_df)+1]\n"
   ]
  },
  {
   "cell_type": "code",
   "execution_count": 30,
   "metadata": {},
   "outputs": [],
   "source": [
    "temp_df['scheduled_time'] = dt_list\n",
    "temp_df['delay'] = temp_df['overhead'] - temp_df['scheduled_time']\n",
    "temp_df['delay_time'] = temp_df['delay'].dt.total_seconds()/60"
   ]
  },
  {
   "cell_type": "code",
   "execution_count": 31,
   "metadata": {},
   "outputs": [
    {
     "data": {
      "text/plain": [
       "<pandas.core.indexes.accessors.TimedeltaProperties object at 0x1480e7a30>"
      ]
     },
     "execution_count": 31,
     "metadata": {},
     "output_type": "execute_result"
    }
   ],
   "source": [
    "temp_df['delay'].dt"
   ]
  },
  {
   "cell_type": "code",
   "execution_count": 32,
   "metadata": {},
   "outputs": [
    {
     "data": {
      "text/html": [
       "<div>\n",
       "<style scoped>\n",
       "    .dataframe tbody tr th:only-of-type {\n",
       "        vertical-align: middle;\n",
       "    }\n",
       "\n",
       "    .dataframe tbody tr th {\n",
       "        vertical-align: top;\n",
       "    }\n",
       "\n",
       "    .dataframe thead th {\n",
       "        text-align: right;\n",
       "    }\n",
       "</style>\n",
       "<table border=\"1\" class=\"dataframe\">\n",
       "  <thead>\n",
       "    <tr style=\"text-align: right;\">\n",
       "      <th></th>\n",
       "      <th>overhead</th>\n",
       "      <th>scheduled_time</th>\n",
       "      <th>delay</th>\n",
       "      <th>delay_time</th>\n",
       "    </tr>\n",
       "  </thead>\n",
       "  <tbody>\n",
       "    <tr>\n",
       "      <th>0</th>\n",
       "      <td>2022-06-02 01:41:09</td>\n",
       "      <td>2022-06-02 01:00:00</td>\n",
       "      <td>0 days 00:41:09</td>\n",
       "      <td>41.150000</td>\n",
       "    </tr>\n",
       "    <tr>\n",
       "      <th>1</th>\n",
       "      <td>2022-06-02 03:46:28</td>\n",
       "      <td>2022-06-02 02:00:00</td>\n",
       "      <td>0 days 01:46:28</td>\n",
       "      <td>106.466667</td>\n",
       "    </tr>\n",
       "    <tr>\n",
       "      <th>2</th>\n",
       "      <td>2022-06-02 04:46:07</td>\n",
       "      <td>2022-06-02 03:00:00</td>\n",
       "      <td>0 days 01:46:07</td>\n",
       "      <td>106.116667</td>\n",
       "    </tr>\n",
       "    <tr>\n",
       "      <th>3</th>\n",
       "      <td>2022-06-02 06:23:07</td>\n",
       "      <td>2022-06-02 04:00:00</td>\n",
       "      <td>0 days 02:23:07</td>\n",
       "      <td>143.116667</td>\n",
       "    </tr>\n",
       "    <tr>\n",
       "      <th>4</th>\n",
       "      <td>2022-06-02 07:18:25</td>\n",
       "      <td>2022-06-02 05:00:00</td>\n",
       "      <td>0 days 02:18:25</td>\n",
       "      <td>138.416667</td>\n",
       "    </tr>\n",
       "    <tr>\n",
       "      <th>5</th>\n",
       "      <td>2022-06-02 08:23:09</td>\n",
       "      <td>2022-06-02 06:00:00</td>\n",
       "      <td>0 days 02:23:09</td>\n",
       "      <td>143.150000</td>\n",
       "    </tr>\n",
       "    <tr>\n",
       "      <th>6</th>\n",
       "      <td>2022-06-02 09:17:52</td>\n",
       "      <td>2022-06-02 07:00:00</td>\n",
       "      <td>0 days 02:17:52</td>\n",
       "      <td>137.866667</td>\n",
       "    </tr>\n",
       "    <tr>\n",
       "      <th>7</th>\n",
       "      <td>2022-06-02 10:20:36</td>\n",
       "      <td>2022-06-02 08:00:00</td>\n",
       "      <td>0 days 02:20:36</td>\n",
       "      <td>140.600000</td>\n",
       "    </tr>\n",
       "    <tr>\n",
       "      <th>8</th>\n",
       "      <td>2022-06-02 11:15:52</td>\n",
       "      <td>2022-06-02 09:00:00</td>\n",
       "      <td>0 days 02:15:52</td>\n",
       "      <td>135.866667</td>\n",
       "    </tr>\n",
       "    <tr>\n",
       "      <th>9</th>\n",
       "      <td>2022-06-02 12:38:01</td>\n",
       "      <td>2022-06-02 10:00:00</td>\n",
       "      <td>0 days 02:38:01</td>\n",
       "      <td>158.016667</td>\n",
       "    </tr>\n",
       "    <tr>\n",
       "      <th>10</th>\n",
       "      <td>2022-06-02 13:44:34</td>\n",
       "      <td>2022-06-02 11:00:00</td>\n",
       "      <td>0 days 02:44:34</td>\n",
       "      <td>164.566667</td>\n",
       "    </tr>\n",
       "    <tr>\n",
       "      <th>11</th>\n",
       "      <td>2022-06-02 14:19:16</td>\n",
       "      <td>2022-06-02 12:00:00</td>\n",
       "      <td>0 days 02:19:16</td>\n",
       "      <td>139.266667</td>\n",
       "    </tr>\n",
       "  </tbody>\n",
       "</table>\n",
       "</div>"
      ],
      "text/plain": [
       "              overhead      scheduled_time           delay  delay_time\n",
       "0  2022-06-02 01:41:09 2022-06-02 01:00:00 0 days 00:41:09   41.150000\n",
       "1  2022-06-02 03:46:28 2022-06-02 02:00:00 0 days 01:46:28  106.466667\n",
       "2  2022-06-02 04:46:07 2022-06-02 03:00:00 0 days 01:46:07  106.116667\n",
       "3  2022-06-02 06:23:07 2022-06-02 04:00:00 0 days 02:23:07  143.116667\n",
       "4  2022-06-02 07:18:25 2022-06-02 05:00:00 0 days 02:18:25  138.416667\n",
       "5  2022-06-02 08:23:09 2022-06-02 06:00:00 0 days 02:23:09  143.150000\n",
       "6  2022-06-02 09:17:52 2022-06-02 07:00:00 0 days 02:17:52  137.866667\n",
       "7  2022-06-02 10:20:36 2022-06-02 08:00:00 0 days 02:20:36  140.600000\n",
       "8  2022-06-02 11:15:52 2022-06-02 09:00:00 0 days 02:15:52  135.866667\n",
       "9  2022-06-02 12:38:01 2022-06-02 10:00:00 0 days 02:38:01  158.016667\n",
       "10 2022-06-02 13:44:34 2022-06-02 11:00:00 0 days 02:44:34  164.566667\n",
       "11 2022-06-02 14:19:16 2022-06-02 12:00:00 0 days 02:19:16  139.266667"
      ]
     },
     "execution_count": 32,
     "metadata": {},
     "output_type": "execute_result"
    }
   ],
   "source": [
    "temp_df"
   ]
  },
  {
   "cell_type": "code",
   "execution_count": 33,
   "metadata": {},
   "outputs": [
    {
     "name": "stderr",
     "output_type": "stream",
     "text": [
      "No artists with labels found to put in legend.  Note that artists whose label start with an underscore are ignored when legend() is called with no argument.\n"
     ]
    },
    {
     "data": {
      "image/png": "[encoded data removed]",
      "text/plain": [
       "<Figure size 720x432 with 1 Axes>"
      ]
     },
     "metadata": {
      "needs_background": "light"
     },
     "output_type": "display_data"
    }
   ],
   "source": [
    "x1 = temp_df['scheduled_time'].dt.hour.astype(str) + \":00\"\n",
    "y1 = temp_df['delay_time']\n",
    "fig = plt.figure(figsize=(10, 6))\n",
    "ax = fig.add_subplot(1,1,1)\n",
    "ax.plot(x1, y1, color='tomato',  linestyle='-', marker='o')\n",
    "ax.set_xticks(temp_df['scheduled_time'].dt.hour.astype(str) + \":00\")\n",
    "plt.legend(bbox_to_anchor=(1, 1),loc='upper right')\n",
    "plt.show()\n",
    "\n"
   ]
  },
  {
   "cell_type": "markdown",
   "metadata": {},
   "source": []
  }
 ],
 "metadata": {
  "interpreter": {
   "hash": "5e36b0a889289ed7513025b236c2e2948a59999ad39fd2d950c06b5c8c735738"
  },
  "kernelspec": {
   "display_name": "Python 3.9.10 ('myenv')",
   "language": "python",
   "name": "python3"
  },
  "language_info": {
   "codemirror_mode": {
    "name": "ipython",
    "version": 3
   },
   "file_extension": ".py",
   "mimetype": "text/x-python",
   "name": "python",
   "nbconvert_exporter": "python",
   "pygments_lexer": "ipython3",
   "version": "3.9.10"
  },
  "orig_nbformat": 4
 },
 "nbformat": 4,
 "nbformat_minor": 2
}
